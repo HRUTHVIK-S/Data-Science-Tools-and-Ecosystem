{
 "cells": [
  {
   "cell_type": "markdown",
   "metadata": {},
   "source": [
    "<center>\n",
    "    <img src=\"https://cf-courses-data.s3.us.cloud-object-storage.appdomain.cloud/IBMDeveloperSkillsNetwork-DS0105EN-SkillsNetwork/labs/Module2/images/SN_web_lightmode.png\" width=\"300\" alt=\"cognitiveclass.ai logo\">\n",
    "</center>\n"
   ]
  },
  {
   "cell_type": "markdown",
   "metadata": {},
   "source": [
    "#### Add your code below following the instructions given in the course\n"
   ]
  },
  {
   "cell_type": "markdown",
   "metadata": {},
   "source": [
    "DATA SCIENCE TOOLS AND ECOSYSTEM"
   ]
  },
  {
   "cell_type": "markdown",
   "metadata": {},
   "source": [
    "In this Notebook, the tools used in the data science and that are taught in this tutorial are summarized"
   ]
  },
  {
   "cell_type": "markdown",
   "metadata": {},
   "source": [
    "The most used languages in data science are:\n",
    "1.PYTHON\n",
    "2.R\n",
    "3.SQL\n",
    "4.SCALA\n",
    "5.JAVA\n",
    "6.JULIA"
   ]
  },
  {
   "cell_type": "markdown",
   "metadata": {},
   "source": [
    "SOME OF THE COMMONLY USED LIBRARIES IN DATA SCIENCE ARE:\n",
    "1.NUMPY\n",
    "2.PANDAS\n",
    "3.MATPLOTLIB\n",
    "4.SEABORN\n",
    "5.TENSORFLOW\n",
    "6.SCIKIT-LEARN\n",
    "7.SCIPY\n",
    "8.PYTORCH"
   ]
  },
  {
   "cell_type": "markdown",
   "metadata": {},
   "source": [
    "|DATA SCIENCE TOOLS|\n",
    "|---|\n",
    "|JUPITER NOTEBOOK|\n",
    "|GITHUB|\n",
    "|GOOGLE COLAB|\n",
    "|APACHE SPARK|\n",
    "|HADOOP|\n",
    "|TENSORFLOW|\n",
    "|ANACONDA|\n",
    "|SPYDER|\n",
    "|ZEPPELIN|\n"
   ]
  },
  {
   "cell_type": "markdown",
   "metadata": {
    "tags": []
   },
   "source": [
    "#A FEW EXAMPLES OF ARITHMETIC EXPRESSIONS ARE LISTED BELOW"
   ]
  },
  {
   "cell_type": "code",
   "execution_count": 3,
   "metadata": {
    "tags": []
   },
   "outputs": [
    {
     "data": {
      "text/plain": [
       "11"
      ]
     },
     "execution_count": 3,
     "metadata": {},
     "output_type": "execute_result"
    }
   ],
   "source": [
    "#TO ADD AND SUBTRACT NUMBERS\n",
    "4+5+9-3-4"
   ]
  },
  {
   "cell_type": "code",
   "execution_count": 4,
   "metadata": {
    "tags": []
   },
   "outputs": [
    {
     "data": {
      "text/plain": [
       "38.57142857142857"
      ]
     },
     "execution_count": 4,
     "metadata": {},
     "output_type": "execute_result"
    }
   ],
   "source": [
    "#TO SMULTIPLY AND DIVIDE NUMBERS\n",
    "5*6/7*9"
   ]
  },
  {
   "cell_type": "code",
   "execution_count": 9,
   "metadata": {
    "tags": []
   },
   "outputs": [
    {
     "data": {
      "text/plain": [
       "36"
      ]
     },
     "execution_count": 9,
     "metadata": {},
     "output_type": "execute_result"
    }
   ],
   "source": [
    "#EXAMPLE TO MULTIPLY AND ADD NUMBERS\n",
    "(4+8)*3"
   ]
  },
  {
   "cell_type": "code",
   "execution_count": 8,
   "metadata": {
    "tags": []
   },
   "outputs": [
    {
     "name": "stdout",
     "output_type": "stream",
     "text": [
      "10.0\n"
     ]
    }
   ],
   "source": [
    "#CODECELL TO CONVERT MINUTES IN TO HOURS\n",
    "MIN = 600\n",
    "HRS = MIN/60\n",
    "print(HRS)"
   ]
  },
  {
   "cell_type": "markdown",
   "metadata": {},
   "source": [
    "_OBJECTIVES_\n",
    "* LIST POPULAR PROGRAMMING LANGUAGES USED IN DATA SCIENCE\n",
    "* LIST OUT POPULAR LIBRARIES USED IN DATA SCIENCE\n",
    "* LIST OUT WELL KNOWN DATA SCIENCE TOOLS\n",
    "* HOW TO PROVIDE COMMENTS IN THE CELL\n"
   ]
  },
  {
   "cell_type": "markdown",
   "metadata": {},
   "source": [
    "AUTHOR\n",
    "\n",
    "S HRUTHVIK"
   ]
  }
 ],
 "metadata": {
  "kernelspec": {
   "display_name": "Python",
   "language": "python",
   "name": "conda-env-python-py"
  },
  "language_info": {
   "codemirror_mode": {
    "name": "ipython",
    "version": 3
   },
   "file_extension": ".py",
   "mimetype": "text/x-python",
   "name": "python",
   "nbconvert_exporter": "python",
   "pygments_lexer": "ipython3",
   "version": "3.7.12"
  }
 },
 "nbformat": 4,
 "nbformat_minor": 4
}
